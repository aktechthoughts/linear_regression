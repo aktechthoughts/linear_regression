{
 "cells": [
  {
   "cell_type": "markdown",
   "metadata": {},
   "source": [
    "# Introduction to Linear regression using python"
   ]
  },
  {
   "cell_type": "markdown",
   "metadata": {},
   "source": [
    "#### This blog is an attempt to introduce the concept of liner regression to software engineers. This is well understood and used in the community of data scientists and statisticans, but after arrival of big data boom it is now important for software engineer to understand it."
   ]
  },
  {
   "cell_type": "markdown",
   "metadata": {},
   "source": [
    "#### Basics Terminology and Loading data in a DataFrame\n"
   ]
  },
  {
   "attachments": {
    "image.png": {
     "image/png": "[encoded data removed]"
    }
   },
   "cell_type": "markdown",
   "metadata": {},
   "source": [
    "First of all I would like to explain the terminology. Following are most important before we dive in. \n",
    "\n",
    "-  **Observations**\n",
    "-  **Features**\n",
    "-  **Predictors**\n",
    "-  **Target**\n",
    "-  **Shape**\n",
    "-  **Index Column**\n",
    "\n",
    "\n",
    "In two dimensional array of Data - Rows are called observatoins and columns are called Features. One of the Feature which is being predicted is called Target. Other features which are used to predict the target is called predictors.\n",
    "\n",
    "For linear regression to work - Primary condition is No of Target should be equal to no of Predictors i.e. Observations. \n",
    "![image.png](attachment:image.png)\n",
    "\n",
    "Shape is dimensionality, i.e. no of rows and columns. The shape of the data shown above is (5,4). \n",
    "\n",
    "Index column is the pointer which is used to identify the observation, it can be numeric or alpha-numberic. But generally it is numeric starting with 0.\n",
    "***\n",
    "Now we can look at the actual data. Here we will consider sample dataset available in scikit learn library. Following code loads data in python object boston."
   ]
  },
  {
   "cell_type": "code",
   "execution_count": 1,
   "metadata": {},
   "outputs": [],
   "source": [
    "from sklearn.datasets import load_boston\n",
    "boston = load_boston()"
   ]
  },
  {
   "cell_type": "markdown",
   "metadata": {},
   "source": [
    "This dataset has 4 keys attribute called - data, feature_names, DESCR and target. data is a numpy 2-d array, feature_names and target is list. DESCR key explains the features available in the dataset.\n"
   ]
  },
  {
   "cell_type": "code",
   "execution_count": 2,
   "metadata": {},
   "outputs": [
    {
     "name": "stdout",
     "output_type": "stream",
     "text": [
      "['data', 'feature_names', 'DESCR', 'target']\n"
     ]
    }
   ],
   "source": [
    "print(boston.keys())\n",
    "# print(\"===========================\")\n",
    "# print(boston.data)\n",
    "# print(\"===========================\")\n",
    "# print(boston.feature_names)\n",
    "# print(\"===========================\")\n",
    "# print(boston.DESCR)\n",
    "# print(\"===========================\")\n",
    "# print(boston.target)\n",
    "\n"
   ]
  },
  {
   "cell_type": "markdown",
   "metadata": {},
   "source": [
    "Let convert the boston object to Panda dataframe for easy navigation, slicing and dicing. Next cell is \n",
    "\n",
    "- First create instance of Panda as pd.\n",
    "- Call the function DataFrame and pass boston.data and boston.feature_names keys.\n",
    "- Print the a part of dataframe.\n",
    "\n",
    "df.head would show the header (top) observations, Other way to select observation is using [] operator.\n",
    "\n",
    "df.index evaluates to the index of the dataframe and \"df.index<6\" evaluates to True and False. df[df.index<6] is very popular way of selecting certain observation."
   ]
  },
  {
   "cell_type": "code",
   "execution_count": 3,
   "metadata": {},
   "outputs": [
    {
     "data": {
      "text/html": [
       "<div>\n",
       "<table border=\"1\" class=\"dataframe\">\n",
       "  <thead>\n",
       "    <tr style=\"text-align: right;\">\n",
       "      <th></th>\n",
       "      <th>CRIM</th>\n",
       "      <th>ZN</th>\n",
       "      <th>INDUS</th>\n",
       "      <th>CHAS</th>\n",
       "      <th>NOX</th>\n",
       "      <th>RM</th>\n",
       "      <th>AGE</th>\n",
       "      <th>DIS</th>\n",
       "      <th>RAD</th>\n",
       "      <th>TAX</th>\n",
       "      <th>PTRATIO</th>\n",
       "      <th>B</th>\n",
       "      <th>LSTAT</th>\n",
       "    </tr>\n",
       "  </thead>\n",
       "  <tbody>\n",
       "    <tr>\n",
       "      <th>0</th>\n",
       "      <td>0.00632</td>\n",
       "      <td>18.0</td>\n",
       "      <td>2.31</td>\n",
       "      <td>0.0</td>\n",
       "      <td>0.538</td>\n",
       "      <td>6.575</td>\n",
       "      <td>65.2</td>\n",
       "      <td>4.0900</td>\n",
       "      <td>1.0</td>\n",
       "      <td>296.0</td>\n",
       "      <td>15.3</td>\n",
       "      <td>396.90</td>\n",
       "      <td>4.98</td>\n",
       "    </tr>\n",
       "    <tr>\n",
       "      <th>1</th>\n",
       "      <td>0.02731</td>\n",
       "      <td>0.0</td>\n",
       "      <td>7.07</td>\n",
       "      <td>0.0</td>\n",
       "      <td>0.469</td>\n",
       "      <td>6.421</td>\n",
       "      <td>78.9</td>\n",
       "      <td>4.9671</td>\n",
       "      <td>2.0</td>\n",
       "      <td>242.0</td>\n",
       "      <td>17.8</td>\n",
       "      <td>396.90</td>\n",
       "      <td>9.14</td>\n",
       "    </tr>\n",
       "    <tr>\n",
       "      <th>2</th>\n",
       "      <td>0.02729</td>\n",
       "      <td>0.0</td>\n",
       "      <td>7.07</td>\n",
       "      <td>0.0</td>\n",
       "      <td>0.469</td>\n",
       "      <td>7.185</td>\n",
       "      <td>61.1</td>\n",
       "      <td>4.9671</td>\n",
       "      <td>2.0</td>\n",
       "      <td>242.0</td>\n",
       "      <td>17.8</td>\n",
       "      <td>392.83</td>\n",
       "      <td>4.03</td>\n",
       "    </tr>\n",
       "    <tr>\n",
       "      <th>3</th>\n",
       "      <td>0.03237</td>\n",
       "      <td>0.0</td>\n",
       "      <td>2.18</td>\n",
       "      <td>0.0</td>\n",
       "      <td>0.458</td>\n",
       "      <td>6.998</td>\n",
       "      <td>45.8</td>\n",
       "      <td>6.0622</td>\n",
       "      <td>3.0</td>\n",
       "      <td>222.0</td>\n",
       "      <td>18.7</td>\n",
       "      <td>394.63</td>\n",
       "      <td>2.94</td>\n",
       "    </tr>\n",
       "    <tr>\n",
       "      <th>4</th>\n",
       "      <td>0.06905</td>\n",
       "      <td>0.0</td>\n",
       "      <td>2.18</td>\n",
       "      <td>0.0</td>\n",
       "      <td>0.458</td>\n",
       "      <td>7.147</td>\n",
       "      <td>54.2</td>\n",
       "      <td>6.0622</td>\n",
       "      <td>3.0</td>\n",
       "      <td>222.0</td>\n",
       "      <td>18.7</td>\n",
       "      <td>396.90</td>\n",
       "      <td>5.33</td>\n",
       "    </tr>\n",
       "    <tr>\n",
       "      <th>5</th>\n",
       "      <td>0.02985</td>\n",
       "      <td>0.0</td>\n",
       "      <td>2.18</td>\n",
       "      <td>0.0</td>\n",
       "      <td>0.458</td>\n",
       "      <td>6.430</td>\n",
       "      <td>58.7</td>\n",
       "      <td>6.0622</td>\n",
       "      <td>3.0</td>\n",
       "      <td>222.0</td>\n",
       "      <td>18.7</td>\n",
       "      <td>394.12</td>\n",
       "      <td>5.21</td>\n",
       "    </tr>\n",
       "  </tbody>\n",
       "</table>\n",
       "</div>"
      ],
      "text/plain": [
       "      CRIM    ZN  INDUS  CHAS    NOX     RM   AGE     DIS  RAD    TAX  \\\n",
       "0  0.00632  18.0   2.31   0.0  0.538  6.575  65.2  4.0900  1.0  296.0   \n",
       "1  0.02731   0.0   7.07   0.0  0.469  6.421  78.9  4.9671  2.0  242.0   \n",
       "2  0.02729   0.0   7.07   0.0  0.469  7.185  61.1  4.9671  2.0  242.0   \n",
       "3  0.03237   0.0   2.18   0.0  0.458  6.998  45.8  6.0622  3.0  222.0   \n",
       "4  0.06905   0.0   2.18   0.0  0.458  7.147  54.2  6.0622  3.0  222.0   \n",
       "5  0.02985   0.0   2.18   0.0  0.458  6.430  58.7  6.0622  3.0  222.0   \n",
       "\n",
       "   PTRATIO       B  LSTAT  \n",
       "0     15.3  396.90   4.98  \n",
       "1     17.8  396.90   9.14  \n",
       "2     17.8  392.83   4.03  \n",
       "3     18.7  394.63   2.94  \n",
       "4     18.7  396.90   5.33  \n",
       "5     18.7  394.12   5.21  "
      ]
     },
     "execution_count": 3,
     "metadata": {},
     "output_type": "execute_result"
    }
   ],
   "source": [
    "import pandas as pd\n",
    "df = pd.DataFrame(boston.data,columns=boston.feature_names)\n",
    "# df.head\n",
    "df[df.index<6]\n"
   ]
  },
  {
   "cell_type": "markdown",
   "metadata": {},
   "source": [
    "There are three ways to slicing pandas dataframe, loc, iloc and ix. \n",
    "\n",
    "- iloc[index] : -  We can pass following elements in the dataframe.\n",
    "\n",
    "            Index using number.\n",
    "            Array indexes using [] operator.\n",
    "            True False using functions or operators.\n",
    "            \n",
    "- loc[index] : -  We can pass following elements in the dataframe.\n",
    "\n",
    "            Index using Labels.\n",
    "            Array Labels using [] operator.\n",
    "            True False using functions or operators.    \n",
    "            \n",
    "- ix[index] : -  We can pass anything numbers or Labels to ix.\n",
    "\n",
    "             df.ix[[1,3,5],['CRIM','ZN']] selects 1st, 3rd and 5th row and two columns."
   ]
  },
  {
   "cell_type": "code",
   "execution_count": 4,
   "metadata": {},
   "outputs": [
    {
     "data": {
      "text/html": [
       "<div>\n",
       "<table border=\"1\" class=\"dataframe\">\n",
       "  <thead>\n",
       "    <tr style=\"text-align: right;\">\n",
       "      <th></th>\n",
       "      <th>CRIM</th>\n",
       "      <th>ZN</th>\n",
       "    </tr>\n",
       "  </thead>\n",
       "  <tbody>\n",
       "    <tr>\n",
       "      <th>1</th>\n",
       "      <td>0.02731</td>\n",
       "      <td>0.0</td>\n",
       "    </tr>\n",
       "    <tr>\n",
       "      <th>3</th>\n",
       "      <td>0.03237</td>\n",
       "      <td>0.0</td>\n",
       "    </tr>\n",
       "    <tr>\n",
       "      <th>5</th>\n",
       "      <td>0.02985</td>\n",
       "      <td>0.0</td>\n",
       "    </tr>\n",
       "  </tbody>\n",
       "</table>\n",
       "</div>"
      ],
      "text/plain": [
       "      CRIM   ZN\n",
       "1  0.02731  0.0\n",
       "3  0.03237  0.0\n",
       "5  0.02985  0.0"
      ]
     },
     "execution_count": 4,
     "metadata": {},
     "output_type": "execute_result"
    }
   ],
   "source": [
    "# df.loc[0:1]\n",
    "# df.iloc[2,]\n",
    "# df.ix[df.index<6,['CRIM','ZN']]\n",
    "df.ix[[1,3,5],['CRIM','ZN']]\n",
    "\n"
   ]
  },
  {
   "cell_type": "markdown",
   "metadata": {},
   "source": [
    "We have created dataframe df with boston.data, it doesn't have target.\n",
    "\n",
    "Now lets add boston.target as a column in the dataframe using df \"df['PRICE'] = boston.target\". This will add a feature(target) in the last column of the dataframe df, Print using ix notation.\n",
    "\n",
    "The dataframe df is ready with boston data for regression analysis. Following cell prints the part of the dataframe using ix notation."
   ]
  },
  {
   "cell_type": "code",
   "execution_count": 5,
   "metadata": {},
   "outputs": [
    {
     "data": {
      "text/html": [
       "<div>\n",
       "<table border=\"1\" class=\"dataframe\">\n",
       "  <thead>\n",
       "    <tr style=\"text-align: right;\">\n",
       "      <th></th>\n",
       "      <th>AGE</th>\n",
       "      <th>DIS</th>\n",
       "      <th>PRICE</th>\n",
       "    </tr>\n",
       "  </thead>\n",
       "  <tbody>\n",
       "    <tr>\n",
       "      <th>1</th>\n",
       "      <td>78.9</td>\n",
       "      <td>4.9671</td>\n",
       "      <td>21.6</td>\n",
       "    </tr>\n",
       "    <tr>\n",
       "      <th>3</th>\n",
       "      <td>45.8</td>\n",
       "      <td>6.0622</td>\n",
       "      <td>33.4</td>\n",
       "    </tr>\n",
       "    <tr>\n",
       "      <th>4</th>\n",
       "      <td>54.2</td>\n",
       "      <td>6.0622</td>\n",
       "      <td>36.2</td>\n",
       "    </tr>\n",
       "  </tbody>\n",
       "</table>\n",
       "</div>"
      ],
      "text/plain": [
       "    AGE     DIS  PRICE\n",
       "1  78.9  4.9671   21.6\n",
       "3  45.8  6.0622   33.4\n",
       "4  54.2  6.0622   36.2"
      ]
     },
     "execution_count": 5,
     "metadata": {},
     "output_type": "execute_result"
    }
   ],
   "source": [
    "df['PRICE'] = boston.target\n",
    "df.ix[[1,3,4],['AGE','DIS','PRICE']]"
   ]
  },
  {
   "cell_type": "markdown",
   "metadata": {},
   "source": [
    "#### Basics of Linear equation"
   ]
  },
  {
   "cell_type": "markdown",
   "metadata": {},
   "source": [
    "So far we have loaded the features and target in the Pandas dataframe df. The last item added to the dataframe is PRICE, which our target.\n",
    "\n",
    "We need to understand how the price is related to other predictors. The most intutive way to understand the relationship is scatter plot. So we will plot All the predictors against Price to observe their relationship.  \n",
    "\n",
    "The selection of predictor is one of the important step in the regression analysis. The analyst should select the predictor which contributes to the target variable. There are some predictors which donot contribute to the relationship, those should be identified and not used in the regression equation. One obvious non-contributing predictor is constants. Here the predictor CHAS has value 0 or 1. it doesn't influences price of the house, so it should not be used in the regression.\n",
    "\n",
    "I have selected RM,AGE and DIS as my predictor - I have taken this decision based on the observation in the scatter plot below."
   ]
  },
  {
   "cell_type": "code",
   "execution_count": 9,
   "metadata": {},
   "outputs": [
    {
     "data": {
      "image/png": "[encoded data removed]",
      "text/plain": [
       "<matplotlib.figure.Figure at 0x7f8a0a4704d0>"
      ]
     },
     "metadata": {},
     "output_type": "display_data"
    }
   ],
   "source": [
    "import matplotlib.pyplot as plt\n",
    "\n",
    "# :Attribute Information (in order):\n",
    "#         - CRIM     per capita crime rate by town\n",
    "#         - ZN       proportion of residential land zoned for lots over 25,000 sq.ft.\n",
    "#         - INDUS    proportion of non-retail business acres per town\n",
    "#         - CHAS     Charles River dummy variable (= 1 if tract bounds river; 0 otherwise)\n",
    "#         - NOX      nitric oxides concentration (parts per 10 million)\n",
    "#         - RM       average number of rooms per dwelling\n",
    "#         - AGE      proportion of owner-occupied units built prior to 1940\n",
    "#         - DIS      weighted distances to five Boston employment centres\n",
    "#         - RAD      index of accessibility to radial highways\n",
    "#         - TAX      full-value property-tax rate per $10,000\n",
    "#         - PTRATIO  pupil-teacher ratio by town\n",
    "#         - B        1000(Bk - 0.63)^2 where Bk is the proportion of blacks by town\n",
    "#         - LSTAT    % lower status of the population\n",
    "#         - MEDV     Median value of owner-occupied homes in $1000's\n",
    "\n",
    "plt.subplots(1, 3,figsize=(10,3))\n",
    "\n",
    "plt.subplot(1, 3, 1)\n",
    "plt.scatter(df.ix[:,'RM'] ,df.ix[:,'PRICE'] )\n",
    "plt.xlabel('Number of Rooms')\n",
    "plt.ylabel('PRICE')\n",
    "plt.title('Price vs Rooms')\n",
    "\n",
    "plt.subplot(1, 3, 2)\n",
    "plt.scatter(df.ix[:,'AGE'] ,df.ix[:,'PRICE'] )        \n",
    "plt.xlabel('Age of the House')\n",
    "plt.ylabel('PRICE')\n",
    "plt.title('Price vs Age')\n",
    "\n",
    "plt.subplot(1, 3, 3)\n",
    "plt.scatter(df.ix[:,'DIS'] ,df.ix[:,'PRICE'] )        \n",
    "plt.xlabel('Dist. from Business center.')\n",
    "plt.ylabel('PRICE')\n",
    "plt.title('Price vs Dist.')\n",
    "\n",
    "plt.tight_layout()\n",
    "plt.show()\n",
    "\n",
    "\n",
    "\n"
   ]
  },
  {
   "cell_type": "markdown",
   "metadata": {},
   "source": [
    "We can observe a linear pattern in the plot. The price of house seems to be increasing with number of rooms. It is reducing with distance from the business center. And, It is reducing with Age.\n",
    "\n",
    "We can try to find the equation (function) between No fo rooms and the price. The following cell plots the best fit line over the scatter plot. The red line is the line of best fit and it can predict the house price based on the number of rooms. The equation of the line is given in the chart."
   ]
  },
  {
   "cell_type": "code",
   "execution_count": 7,
   "metadata": {},
   "outputs": [
    {
     "data": {
      "image/png": "[encoded data removed]",
      "text/plain": [
       "<matplotlib.figure.Figure at 0x7f8a0cb5e9d0>"
      ]
     },
     "metadata": {},
     "output_type": "display_data"
    }
   ],
   "source": [
    "import numpy as np\n",
    "\n",
    "X = df.ix[:,'RM']  \n",
    "Y = df.ix[:,'PRICE']\n",
    "\n",
    "fit = np.polyfit(X,Y, deg=1)\n",
    " \n",
    "plt.scatter(X ,Y )\n",
    "plt.axhline(y=0)\n",
    "plt.axvline(x=0)\n",
    "\n",
    "plt.xlabel('Number of Rooms')\n",
    "plt.ylabel('PRICE')\n",
    "plt.title('Price vs Rooms')\n",
    "equ = \"Y=%2.2fx%2.2f\" %(fit[0],fit[1])\n",
    "\n",
    "plt.plot(X, fit[0] * X + fit[1], color='red',label=equ)\n",
    "plt.legend(loc=(1.04,0.5))\n",
    "\n",
    "\n",
    "plt.show()\n",
    "\n"
   ]
  },
  {
   "cell_type": "markdown",
   "metadata": {},
   "source": [
    "There are number of properties associated with the best fit line. \n",
    "\n",
    "One of the most important properties is Pearson product-moment correlation coefficient (PPMCC) or simply said correlation coefficient.\n",
    "\n",
    "It gives direction of the  linear correlation between two variables X and Y. The value lies between -1 to +1. A value closer to +1, i.e. 0.95 suggests very strong positive correlation. A value closer to -1 suggest negative correlation. A negative correlation means that the value of dependent variable would decrease with increasing independent variable. A value 0 suggests that there is no correlation between the variables.\n",
    "\n",
    "Mathematically  r is given by below formula.\n",
    "\n",
    "                   r = Covariance of (X,Y) / Stadard Deviation of x * Standard Deviation of y \n",
    "\n",
    "Some of Important properties are \n",
    "                   \n",
    "                   R-suqared\n",
    "                   Adjusted. R-squared\n",
    "                   F Statistic\n",
    "                   Prob ( F Statistic)\n",
    "                   Standard Error\n",
    "                   t Ratio\n",
    "                   p\n",
    "- R-Squared is said to be the Coefficient of determination, it signifys the strength of the relationship between variable in    terms of percentage. This is actually the proportion of the variance in the dependent variable that can be explained by  independent variable. The higher value of R-Squared is considered to be good. But this is not always true, sometimes non-contributing predictors inflate the R-Squared. \n",
    "  \n",
    "  \n",
    "  \n",
    "- The adjusted R-squared is a modified version of R-Squared that has been adjusted for the number of predictors in the model. The adjusted R-squared  increases only if new term improves the model more than would be expected by chance. It decreases when predictor improves the model by less than expected by chance. The adjusted R-square can be negative, but usually not. It is always less than equal to R-squared.\n",
    "\n",
    "\n",
    "\n",
    "- 'F Statistic' or 'F Value' is the measure of the overall significance of the regression model. 'F critical value' is the value obtained from F table for a given significance level (α). \n",
    "\n",
    "\n",
    "\n",
    "- F value, F Critical Value , Alpha (α) and p value should always be looked togather to understand the overall significance of the regression model.\n",
    "\n",
    "\n",
    "\n",
    "- If F value is greater than F Critical value, it suggests that there is some significance predictor in the model.\n",
    "\n",
    "\n",
    "\n",
    "- While p value less then α suggests all the predictors are significant.\n",
    "\n",
    "\n",
    "\n",
    "- Mathematically F value is the ratio of the mean regression sum of squares divided by the mean error sum of squares.  Its value will range from zero to an arbitrarily large number.  The value of Prob(F Statistic) is the probability that the null hypothesis for the full model is true (i.e., that all of the regression coefficients are zero).\n",
    "\n",
    "\n",
    "\n",
    "- Basically, the f-test compares the model with zero predictor variables (the intercept only model), and decides whether the added coefficients improves the model. If we get a significant result, then whatever coefficients is included in the model is considered to be fit for the model.\n",
    "\n",
    "\n",
    "- Standard Error is the measure of the accuracy of predictions. If the prediction done by the model (equation) is close to the actual value,i.e. in the scatter plot the sample values are very close to the line of best fit. The model is considered to be more accurate. \n",
    "\n",
    "- Mathematically the standard error (σest) is given by \n",
    "                     \n",
    "               σest = Sqrt( SUM (Sqr(Yi - Y′)) / N )\n",
    "               \n",
    "               \n",
    "- t statistic is the measure of significane of the individual predictor.\n",
    "\n",
    "\n",
    "Following cell uses python library statsmodels.api to show the summary output of the OLS (Ordinary Least Square) method. The explanations given in thie cell can be used to interpret the result.\n",
    "\n",
    "Regression is a vast topic which can be covered in books only. I have found a book at the link https://www.stat.berkeley.edu/~brill/Stat131a/29_multi.pdf.  This looks to be a nice read.\n",
    "\n",
    "                 \n"
   ]
  },
  {
   "cell_type": "code",
   "execution_count": 8,
   "metadata": {
    "scrolled": true
   },
   "outputs": [
    {
     "name": "stdout",
     "output_type": "stream",
     "text": [
      "                            OLS Regression Results                            \n",
      "==============================================================================\n",
      "Dep. Variable:                  PRICE   R-squared:                       0.484\n",
      "Model:                            OLS   Adj. R-squared:                  0.483\n",
      "Method:                 Least Squares   F-statistic:                     471.8\n",
      "Date:                Mon, 19 Mar 2018   Prob (F-statistic):           2.49e-74\n",
      "Time:                        12:05:20   Log-Likelihood:                -1673.1\n",
      "No. Observations:                 506   AIC:                             3350.\n",
      "Df Residuals:                     504   BIC:                             3359.\n",
      "Df Model:                           1                                         \n",
      "Covariance Type:            nonrobust                                         \n",
      "==============================================================================\n",
      "                 coef    std err          t      P>|t|      [0.025      0.975]\n",
      "------------------------------------------------------------------------------\n",
      "const        -34.6706      2.650    -13.084      0.000     -39.877     -29.465\n",
      "RM             9.1021      0.419     21.722      0.000       8.279       9.925\n",
      "==============================================================================\n",
      "Omnibus:                      102.585   Durbin-Watson:                   0.684\n",
      "Prob(Omnibus):                  0.000   Jarque-Bera (JB):              612.449\n",
      "Skew:                           0.726   Prob(JB):                    1.02e-133\n",
      "Kurtosis:                       8.190   Cond. No.                         58.4\n",
      "==============================================================================\n",
      "\n",
      "Warnings:\n",
      "[1] Standard Errors assume that the covariance matrix of the errors is correctly specified.\n"
     ]
    }
   ],
   "source": [
    "import statsmodels.api as sm\n",
    "results = sm.OLS(Y,sm.add_constant(X)).fit()\n",
    "print results.summary()"
   ]
  }
 ],
 "metadata": {
  "kernelspec": {
   "display_name": "Python 2",
   "language": "python",
   "name": "python2"
  },
  "language_info": {
   "codemirror_mode": {
    "name": "ipython",
    "version": 2
   },
   "file_extension": ".py",
   "mimetype": "text/x-python",
   "name": "python",
   "nbconvert_exporter": "python",
   "pygments_lexer": "ipython2",
   "version": "2.7.14"
  }
 },
 "nbformat": 4,
 "nbformat_minor": 2
}
